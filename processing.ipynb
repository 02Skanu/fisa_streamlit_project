{
 "cells": [
  {
   "cell_type": "markdown",
   "id": "1355b8e5-7bec-4129-a3cf-dbfc6cea1c9c",
   "metadata": {},
   "source": [
    "# 모듈"
   ]
  },
  {
   "cell_type": "code",
   "execution_count": 24,
   "id": "5908e2a0-0b6f-462b-882a-2af8fa6dbffd",
   "metadata": {},
   "outputs": [],
   "source": [
    "import pandas as pd\n",
    "import numpy as np  "
   ]
  },
  {
   "cell_type": "markdown",
   "id": "b9888f5c-7a57-4964-bdb4-753bab6fc12d",
   "metadata": {},
   "source": [
    "# 데이터 전처리"
   ]
  },
  {
   "cell_type": "markdown",
   "id": "a5fd0dd0-0e2b-49a8-a2a3-bbce06cd1bd1",
   "metadata": {},
   "source": [
    "## 미사용 컬럼 제거"
   ]
  },
  {
   "cell_type": "markdown",
   "id": "a7b13688-bdb6-4b1d-a49f-8d3b81422bd5",
   "metadata": {},
   "source": [
    "### 서울 공중화장실"
   ]
  },
  {
   "cell_type": "code",
   "execution_count": 25,
   "id": "956f1e70-6151-4904-97f8-6d1f2f4a2a90",
   "metadata": {},
   "outputs": [
    {
     "data": {
      "text/plain": [
       "Index(['고유번호', '구명', '법정동명', '산지여부', '주지번', '부지번', '새주소명', '생성일', '위도', '경도'], dtype='object')"
      ]
     },
     "execution_count": 25,
     "metadata": {},
     "output_type": "execute_result"
    }
   ],
   "source": [
    "pub = pd.read_csv('공중화장실.csv', encoding='cp949')\n",
    "pub.columns"
   ]
  },
  {
   "cell_type": "code",
   "execution_count": 26,
   "id": "ab4464c0-3fac-44dd-b197-103d46c94c51",
   "metadata": {},
   "outputs": [],
   "source": [
    "pub_og = pub.copy()   # 원본 복사"
   ]
  },
  {
   "cell_type": "code",
   "execution_count": 27,
   "id": "d3c98ce2-7a26-46e3-a04a-c8a849178e7c",
   "metadata": {},
   "outputs": [
    {
     "data": {
      "text/html": [
       "<div>\n",
       "<style scoped>\n",
       "    .dataframe tbody tr th:only-of-type {\n",
       "        vertical-align: middle;\n",
       "    }\n",
       "\n",
       "    .dataframe tbody tr th {\n",
       "        vertical-align: top;\n",
       "    }\n",
       "\n",
       "    .dataframe thead th {\n",
       "        text-align: right;\n",
       "    }\n",
       "</style>\n",
       "<table border=\"1\" class=\"dataframe\">\n",
       "  <thead>\n",
       "    <tr style=\"text-align: right;\">\n",
       "      <th></th>\n",
       "      <th>구명</th>\n",
       "      <th>법정동명</th>\n",
       "      <th>위도</th>\n",
       "      <th>경도</th>\n",
       "    </tr>\n",
       "  </thead>\n",
       "  <tbody>\n",
       "    <tr>\n",
       "      <th>0</th>\n",
       "      <td>송파구</td>\n",
       "      <td>마천동</td>\n",
       "      <td>37.501401</td>\n",
       "      <td>127.158647</td>\n",
       "    </tr>\n",
       "    <tr>\n",
       "      <th>1</th>\n",
       "      <td>노원구</td>\n",
       "      <td>하계동</td>\n",
       "      <td>37.644937</td>\n",
       "      <td>127.073728</td>\n",
       "    </tr>\n",
       "  </tbody>\n",
       "</table>\n",
       "</div>"
      ],
      "text/plain": [
       "    구명 법정동명         위도          경도\n",
       "0  송파구  마천동  37.501401  127.158647\n",
       "1  노원구  하계동  37.644937  127.073728"
      ]
     },
     "execution_count": 27,
     "metadata": {},
     "output_type": "execute_result"
    }
   ],
   "source": [
    "# 미사용 컬럼 제거\n",
    "\n",
    "pub = pub[['구명', '법정동명','위도', '경도']]\n",
    "pub.head(2)"
   ]
  },
  {
   "cell_type": "markdown",
   "id": "041270b0-57ca-46a3-873b-d7c9ce1edf84",
   "metadata": {},
   "source": [
    "### 지하철 화장실"
   ]
  },
  {
   "cell_type": "code",
   "execution_count": 29,
   "id": "1859b209-4a05-4273-bfa4-9efa5dfb3c8e",
   "metadata": {},
   "outputs": [
    {
     "data": {
      "text/plain": [
       "Index(['연번 ', '구분 ', '관리기관명', '운영노선명 ', '역명', '소재지도로명주소 ', '소재지지번주소 ', '위도 ',\n",
       "       '경도 ', '지상 또는 지하 구분', '역층', '게이트 내외 구분', '(근접) 출입구 번호', '상세위치 ',\n",
       "       '전화번호 ', '개방시간 ', '화장실 설치장소 유형', '오물처리방식 ', '남녀공용화장실여부 ', '남성용-대변기수 ',\n",
       "       '남성용-소변기수 ', '남성용-장애인용대변기수 ', '남성용-장애인용소변기수 ', '남성용-어린이용대변기수 ',\n",
       "       '남성용-어린이용소변기수 ', '여성용-대변기수 ', '여성용-장애인용대변기수 ', '여성용-어린이용대변기수 ',\n",
       "       '비상벨 설치유무 ', '화장실입구cctv설치유무 ', '기저귀교환대설치유무-남자화장실 ',\n",
       "       '기저귀교환대설치유무-남자장애인화장실 ', '기저귀교환대설치유무-여자화장실 ', '기저귀교환대설치유무-여자장애인화장실 ',\n",
       "       '리모델링 연도', '데이터기준일자'],\n",
       "      dtype='object')"
      ]
     },
     "execution_count": 29,
     "metadata": {},
     "output_type": "execute_result"
    }
   ],
   "source": [
    "sub = pd.read_csv('지하철화장실.csv',encoding='cp949')   # \n",
    "sub.columns"
   ]
  },
  {
   "cell_type": "code",
   "execution_count": 30,
   "id": "5046f919-7cef-4158-b7a2-7b187df26ef1",
   "metadata": {},
   "outputs": [],
   "source": [
    "sub_og = sub.copy()   # 원본 복사"
   ]
  },
  {
   "cell_type": "code",
   "execution_count": 31,
   "id": "a3977a6e-fe95-42bf-ae06-ec5c2ae4ffb9",
   "metadata": {},
   "outputs": [
    {
     "data": {
      "text/html": [
       "<div>\n",
       "<style scoped>\n",
       "    .dataframe tbody tr th:only-of-type {\n",
       "        vertical-align: middle;\n",
       "    }\n",
       "\n",
       "    .dataframe tbody tr th {\n",
       "        vertical-align: top;\n",
       "    }\n",
       "\n",
       "    .dataframe thead th {\n",
       "        text-align: right;\n",
       "    }\n",
       "</style>\n",
       "<table border=\"1\" class=\"dataframe\">\n",
       "  <thead>\n",
       "    <tr style=\"text-align: right;\">\n",
       "      <th></th>\n",
       "      <th>운영노선명</th>\n",
       "      <th>역명</th>\n",
       "      <th>위도</th>\n",
       "      <th>경도</th>\n",
       "      <th>게이트 내외 구분</th>\n",
       "      <th>리모델링 연도</th>\n",
       "    </tr>\n",
       "  </thead>\n",
       "  <tbody>\n",
       "    <tr>\n",
       "      <th>0</th>\n",
       "      <td>1호선</td>\n",
       "      <td>서울</td>\n",
       "      <td>37.556878</td>\n",
       "      <td>126.972578</td>\n",
       "      <td>외부</td>\n",
       "      <td>2015</td>\n",
       "    </tr>\n",
       "    <tr>\n",
       "      <th>1</th>\n",
       "      <td>1호선</td>\n",
       "      <td>시청</td>\n",
       "      <td>37.565682</td>\n",
       "      <td>126.976849</td>\n",
       "      <td>외부</td>\n",
       "      <td>2013</td>\n",
       "    </tr>\n",
       "  </tbody>\n",
       "</table>\n",
       "</div>"
      ],
      "text/plain": [
       "  운영노선명   역명        위도          경도  게이트 내외 구분 리모델링 연도\n",
       "0    1호선  서울  37.556878  126.972578        외부    2015\n",
       "1    1호선  시청  37.565682  126.976849        외부    2013"
      ]
     },
     "execution_count": 31,
     "metadata": {},
     "output_type": "execute_result"
    }
   ],
   "source": [
    "# 미사용 컬럼 제거\n",
    "\n",
    "sub = sub[['운영노선명 ', '역명', '위도 ', '경도 ', '게이트 내외 구분', '리모델링 연도']]\n",
    "sub.head(2)      "
   ]
  },
  {
   "cell_type": "code",
   "execution_count": 32,
   "id": "c65f148c-2ea8-41f5-86ac-e9a843d4ac34",
   "metadata": {},
   "outputs": [
    {
     "data": {
      "text/plain": [
       "운영노선명        10\n",
       "역명           10\n",
       "위도           10\n",
       "경도           10\n",
       "게이트 내외 구분    10\n",
       "리모델링 연도      10\n",
       "dtype: int64"
      ]
     },
     "execution_count": 32,
     "metadata": {},
     "output_type": "execute_result"
    }
   ],
   "source": [
    "sub.isnull().sum() # 불러오는 과정에서 생성된 공백 행 10개 제거"
   ]
  },
  {
   "cell_type": "code",
   "execution_count": 33,
   "id": "dd4ab346-b3d9-4331-9e3e-de805816f8f3",
   "metadata": {},
   "outputs": [],
   "source": [
    "sub = sub.dropna()"
   ]
  },
  {
   "cell_type": "code",
   "execution_count": 34,
   "id": "a4984988-1598-4ee7-9d55-132129cbe905",
   "metadata": {},
   "outputs": [],
   "source": [
    "sub = sub.rename(columns={'운영노선명 ': '운영노선명', '위도 ': '위도', '경도 ': '경도', '리모델링연도 ':'리모델링연도'})"
   ]
  },
  {
   "cell_type": "markdown",
   "id": "aa73fa6b-2bf0-40c1-834b-b24855894c26",
   "metadata": {},
   "source": [
    "## 필요 컬럼 추가\n",
    "- 서울 **공중화장실** 위치 정보 데이터에 **가까운 역** 컬럼 추가"
   ]
  },
  {
   "cell_type": "code",
   "execution_count": 35,
   "id": "ccde6c63-3522-4071-9081-72640f3e7f6f",
   "metadata": {},
   "outputs": [],
   "source": [
    "# Haversine\n",
    "\n",
    "def haversine_distance(lat1, lon1, lat2, lon2):\n",
    "    R = 6371  # 지구 반경의 키로미터 단위\n",
    "    lat1, lon1, lat2, lon2 = map(np.radians, [lat1, lon1, lat2, lon2])\n",
    "    dlat = lat2 - lat1\n",
    "    dlon = lon2 - lon1\n",
    "    a = np.sin(dlat / 2)**2 + np.cos(lat1) * np.cos(lat2) * np.sin(dlon / 2)**2\n",
    "    c = 2 * np.arcsin(np.sqrt(a))\n",
    "    return R * c\n",
    "\n",
    "# 각 공중화장실으로부터 직선거리가 가장 가까운 지하철 역 찾는 함수\n",
    "def find_closest_station(toilet_lat, toilet_lon, stations):\n",
    "    distances = stations.apply(\n",
    "        lambda row: haversine_distance(toilet_lat, toilet_lon, row['위도'], row['경도']), axis=1\n",
    "    )\n",
    "    closest_station = stations.loc[distances.idxmin()]\n",
    "    return closest_station['역명']\n",
    "\n",
    "# Apply the function to each toilet location\n",
    "pub.loc[:, '가까운역'] = pub.apply(\n",
    "    lambda row: find_closest_station(row['위도'], row['경도'], sub), axis=1\n",
    ")"
   ]
  },
  {
   "cell_type": "code",
   "execution_count": 36,
   "id": "a0a849ac-fc23-43f8-9158-e8e1440e5cb1",
   "metadata": {},
   "outputs": [
    {
     "data": {
      "text/html": [
       "<div>\n",
       "<style scoped>\n",
       "    .dataframe tbody tr th:only-of-type {\n",
       "        vertical-align: middle;\n",
       "    }\n",
       "\n",
       "    .dataframe tbody tr th {\n",
       "        vertical-align: top;\n",
       "    }\n",
       "\n",
       "    .dataframe thead th {\n",
       "        text-align: right;\n",
       "    }\n",
       "</style>\n",
       "<table border=\"1\" class=\"dataframe\">\n",
       "  <thead>\n",
       "    <tr style=\"text-align: right;\">\n",
       "      <th></th>\n",
       "      <th>구명</th>\n",
       "      <th>법정동명</th>\n",
       "      <th>위도</th>\n",
       "      <th>경도</th>\n",
       "      <th>가까운역</th>\n",
       "    </tr>\n",
       "  </thead>\n",
       "  <tbody>\n",
       "    <tr>\n",
       "      <th>0</th>\n",
       "      <td>송파구</td>\n",
       "      <td>마천동</td>\n",
       "      <td>37.501401</td>\n",
       "      <td>127.158647</td>\n",
       "      <td>마천</td>\n",
       "    </tr>\n",
       "    <tr>\n",
       "      <th>1</th>\n",
       "      <td>노원구</td>\n",
       "      <td>하계동</td>\n",
       "      <td>37.644937</td>\n",
       "      <td>127.073728</td>\n",
       "      <td>노원</td>\n",
       "    </tr>\n",
       "    <tr>\n",
       "      <th>2</th>\n",
       "      <td>노원구</td>\n",
       "      <td>하계동</td>\n",
       "      <td>37.640335</td>\n",
       "      <td>127.077637</td>\n",
       "      <td>중계</td>\n",
       "    </tr>\n",
       "    <tr>\n",
       "      <th>3</th>\n",
       "      <td>강북구</td>\n",
       "      <td>수유동</td>\n",
       "      <td>37.645724</td>\n",
       "      <td>127.020449</td>\n",
       "      <td>노원</td>\n",
       "    </tr>\n",
       "    <tr>\n",
       "      <th>4</th>\n",
       "      <td>도봉구</td>\n",
       "      <td>방학동</td>\n",
       "      <td>37.659783</td>\n",
       "      <td>127.031187</td>\n",
       "      <td>상계</td>\n",
       "    </tr>\n",
       "    <tr>\n",
       "      <th>5</th>\n",
       "      <td>송파구</td>\n",
       "      <td>가락동</td>\n",
       "      <td>37.502339</td>\n",
       "      <td>127.123028</td>\n",
       "      <td>오금</td>\n",
       "    </tr>\n",
       "  </tbody>\n",
       "</table>\n",
       "</div>"
      ],
      "text/plain": [
       "    구명 법정동명         위도          경도 가까운역\n",
       "0  송파구  마천동  37.501401  127.158647   마천\n",
       "1  노원구  하계동  37.644937  127.073728   노원\n",
       "2  노원구  하계동  37.640335  127.077637   중계\n",
       "3  강북구  수유동  37.645724  127.020449   노원\n",
       "4  도봉구  방학동  37.659783  127.031187   상계\n",
       "5  송파구  가락동  37.502339  127.123028   오금"
      ]
     },
     "execution_count": 36,
     "metadata": {},
     "output_type": "execute_result"
    }
   ],
   "source": [
    "# 결과 확인\n",
    "pub.head(6)"
   ]
  },
  {
   "cell_type": "code",
   "execution_count": 37,
   "id": "15205512-1598-4419-a496-dda48350a379",
   "metadata": {},
   "outputs": [
    {
     "data": {
      "text/html": [
       "<div>\n",
       "<style scoped>\n",
       "    .dataframe tbody tr th:only-of-type {\n",
       "        vertical-align: middle;\n",
       "    }\n",
       "\n",
       "    .dataframe tbody tr th {\n",
       "        vertical-align: top;\n",
       "    }\n",
       "\n",
       "    .dataframe thead th {\n",
       "        text-align: right;\n",
       "    }\n",
       "</style>\n",
       "<table border=\"1\" class=\"dataframe\">\n",
       "  <thead>\n",
       "    <tr style=\"text-align: right;\">\n",
       "      <th></th>\n",
       "      <th>구명</th>\n",
       "      <th>법정동명</th>\n",
       "      <th>위도</th>\n",
       "      <th>경도</th>\n",
       "      <th>가까운역</th>\n",
       "    </tr>\n",
       "  </thead>\n",
       "  <tbody>\n",
       "    <tr>\n",
       "      <th>5040</th>\n",
       "      <td>강서구</td>\n",
       "      <td>등촌1동</td>\n",
       "      <td>37.555880</td>\n",
       "      <td>126.858918</td>\n",
       "      <td>발산</td>\n",
       "    </tr>\n",
       "    <tr>\n",
       "      <th>5041</th>\n",
       "      <td>강서구</td>\n",
       "      <td>화곡2동</td>\n",
       "      <td>37.531873</td>\n",
       "      <td>126.854461</td>\n",
       "      <td>신정</td>\n",
       "    </tr>\n",
       "    <tr>\n",
       "      <th>5042</th>\n",
       "      <td>강서구</td>\n",
       "      <td>우장산동</td>\n",
       "      <td>37.553483</td>\n",
       "      <td>126.843646</td>\n",
       "      <td>발산</td>\n",
       "    </tr>\n",
       "    <tr>\n",
       "      <th>5043</th>\n",
       "      <td>강서구</td>\n",
       "      <td>등촌동</td>\n",
       "      <td>37.558864</td>\n",
       "      <td>126.848219</td>\n",
       "      <td>발산</td>\n",
       "    </tr>\n",
       "    <tr>\n",
       "      <th>5044</th>\n",
       "      <td>강서구</td>\n",
       "      <td>등촌동</td>\n",
       "      <td>37.548020</td>\n",
       "      <td>126.860020</td>\n",
       "      <td>화곡</td>\n",
       "    </tr>\n",
       "    <tr>\n",
       "      <th>5045</th>\n",
       "      <td>강서구</td>\n",
       "      <td>화곡동</td>\n",
       "      <td>37.551076</td>\n",
       "      <td>126.849544</td>\n",
       "      <td>우장산</td>\n",
       "    </tr>\n",
       "  </tbody>\n",
       "</table>\n",
       "</div>"
      ],
      "text/plain": [
       "       구명  법정동명         위도          경도 가까운역\n",
       "5040  강서구  등촌1동  37.555880  126.858918   발산\n",
       "5041  강서구  화곡2동  37.531873  126.854461   신정\n",
       "5042  강서구  우장산동  37.553483  126.843646   발산\n",
       "5043  강서구   등촌동  37.558864  126.848219   발산\n",
       "5044  강서구   등촌동  37.548020  126.860020   화곡\n",
       "5045  강서구   화곡동  37.551076  126.849544  우장산"
      ]
     },
     "execution_count": 37,
     "metadata": {},
     "output_type": "execute_result"
    }
   ],
   "source": [
    "pub.tail(6)  # 이상 무"
   ]
  },
  {
   "cell_type": "markdown",
   "id": "e2e81aa2-b281-46ff-8c4d-0eb772d5593f",
   "metadata": {},
   "source": [
    "## 노이즈 데이터 처리"
   ]
  },
  {
   "cell_type": "markdown",
   "id": "00eb2439-553f-4a99-b3fc-3e3c2ac109fb",
   "metadata": {},
   "source": [
    "### 서울 공중화장실 "
   ]
  },
  {
   "cell_type": "code",
   "execution_count": 41,
   "id": "ab04097c-36dd-45d3-b858-98c6e9ba9758",
   "metadata": {},
   "outputs": [
    {
     "data": {
      "text/html": [
       "<div>\n",
       "<style scoped>\n",
       "    .dataframe tbody tr th:only-of-type {\n",
       "        vertical-align: middle;\n",
       "    }\n",
       "\n",
       "    .dataframe tbody tr th {\n",
       "        vertical-align: top;\n",
       "    }\n",
       "\n",
       "    .dataframe thead th {\n",
       "        text-align: right;\n",
       "    }\n",
       "</style>\n",
       "<table border=\"1\" class=\"dataframe\">\n",
       "  <thead>\n",
       "    <tr style=\"text-align: right;\">\n",
       "      <th></th>\n",
       "      <th>구명</th>\n",
       "      <th>법정동명</th>\n",
       "      <th>위도</th>\n",
       "      <th>경도</th>\n",
       "      <th>가까운역</th>\n",
       "    </tr>\n",
       "  </thead>\n",
       "  <tbody>\n",
       "    <tr>\n",
       "      <th>0</th>\n",
       "      <td>송파구</td>\n",
       "      <td>마천동</td>\n",
       "      <td>37.501401</td>\n",
       "      <td>127.158647</td>\n",
       "      <td>마천</td>\n",
       "    </tr>\n",
       "    <tr>\n",
       "      <th>1</th>\n",
       "      <td>노원구</td>\n",
       "      <td>하계동</td>\n",
       "      <td>37.644937</td>\n",
       "      <td>127.073728</td>\n",
       "      <td>노원</td>\n",
       "    </tr>\n",
       "    <tr>\n",
       "      <th>2</th>\n",
       "      <td>노원구</td>\n",
       "      <td>하계동</td>\n",
       "      <td>37.640335</td>\n",
       "      <td>127.077637</td>\n",
       "      <td>중계</td>\n",
       "    </tr>\n",
       "    <tr>\n",
       "      <th>3</th>\n",
       "      <td>강북구</td>\n",
       "      <td>수유동</td>\n",
       "      <td>37.645724</td>\n",
       "      <td>127.020449</td>\n",
       "      <td>노원</td>\n",
       "    </tr>\n",
       "    <tr>\n",
       "      <th>4</th>\n",
       "      <td>도봉구</td>\n",
       "      <td>방학동</td>\n",
       "      <td>37.659783</td>\n",
       "      <td>127.031187</td>\n",
       "      <td>상계</td>\n",
       "    </tr>\n",
       "  </tbody>\n",
       "</table>\n",
       "</div>"
      ],
      "text/plain": [
       "    구명 법정동명         위도          경도 가까운역\n",
       "0  송파구  마천동  37.501401  127.158647   마천\n",
       "1  노원구  하계동  37.644937  127.073728   노원\n",
       "2  노원구  하계동  37.640335  127.077637   중계\n",
       "3  강북구  수유동  37.645724  127.020449   노원\n",
       "4  도봉구  방학동  37.659783  127.031187   상계"
      ]
     },
     "execution_count": 41,
     "metadata": {},
     "output_type": "execute_result"
    }
   ],
   "source": [
    "# \"구\" 명이 잘못 기입된 데이터들 수정\n",
    "pub.loc[pub['구명'] == '영등포', '구명'] = '영등포구'\n",
    "pub.loc[pub['구명'] == '영등로구', '구명'] = '영등포구'\n",
    "pub.loc[pub['구명'] == '영등표구', '구명'] = '영등포구'\n",
    "pub.loc[pub['구명'] == '금천', '구명'] = '금천구'\n",
    "pub.loc[pub['구명'] == '강서', '구명'] = '강서구'\n",
    "pub.loc[pub['구명'] == '노원', '구명'] = '노원구'\n",
    "pub.loc[pub['구명'] == '동작', '구명'] = '동작구'\n",
    "pub.loc[pub['구명'] == '관악', '구명'] = '관악구'\n",
    "pub.loc[pub['구명'] == '송파ㅜ', '구명'] = '송파구'\n",
    "pub.loc[pub['구명'] == '갈현송방차풀소', '구명'] = '은평구'\n",
    "pub.loc[pub['구명'] == '송북구', '구명'] = '성북구'\n",
    "pub.loc[pub['구명'] == '송파두성빌딩', '구명'] = '송파구'\n",
    "pub.loc[pub['구명'] == '갈암구', '구명'] = '강남구'\n",
    "pub.loc[pub['구명'] == '구로수', '구명'] = '구로구'\n",
    "pub.loc[pub['구명'] == '남서울빌딩', '구명'] = '영등포구'\n",
    "pub.loc[pub['구명'] == '서대문', '구명'] = '서대문구'\n",
    "pub.loc[pub['구명'] == '양천', '구명'] = '양천구'"
   ]
  },
  {
   "cell_type": "code",
   "execution_count": null,
   "id": "29a5630e-1dc8-409d-a750-52eb402d8a9b",
   "metadata": {},
   "outputs": [],
   "source": [
    "pub['구명'].unique() # 최종 확인인"
   ]
  },
  {
   "cell_type": "code",
   "execution_count": null,
   "id": "dc8d5a7f-4d27-408c-8b2a-308374b98b3c",
   "metadata": {},
   "outputs": [],
   "source": [
    "pub.to_csv('public_rest_gu.csv', encoding='cp949', index=False)"
   ]
  },
  {
   "cell_type": "markdown",
   "id": "53669ed1-acee-4995-9172-ee435b345297",
   "metadata": {},
   "source": [
    "### 지하철 화장실"
   ]
  },
  {
   "cell_type": "code",
   "execution_count": 45,
   "id": "fdba93b6-7d2f-4cc0-a21e-6a861ee845aa",
   "metadata": {},
   "outputs": [
    {
     "data": {
      "text/plain": [
       "array(['2015', '2013', ' 2008이전 ', '2010', '2014', '2016', '2009', '2012',\n",
       "       '2022', '2017', '2018', '2011', '2019', '2020', '2024', '2021',\n",
       "       '2008', '2006', '2008이전'], dtype=object)"
      ]
     },
     "execution_count": 45,
     "metadata": {},
     "output_type": "execute_result"
    }
   ],
   "source": [
    "sub['리모델링 연도'].unique()"
   ]
  },
  {
   "cell_type": "code",
   "execution_count": 46,
   "id": "289df917-c550-4877-ba62-d43c6c801cb5",
   "metadata": {},
   "outputs": [],
   "source": [
    "# 리모델링 연도 '2008년이전' 내역을 2006 으로 일괄 수정\n",
    "\n",
    "sub.loc[(sub['리모델링 연도'] == '2008이전') | (sub['리모델링 연도'] == ' 2008이전 '), '리모델링 연도'] = 2006"
   ]
  },
  {
   "cell_type": "code",
   "execution_count": 47,
   "id": "f8ab3dfd-1ff1-4311-9a3f-cb2cf28fa8e6",
   "metadata": {},
   "outputs": [
    {
     "data": {
      "text/plain": [
       "array(['2015', '2013', 2006, '2010', '2014', '2016', '2009', '2012',\n",
       "       '2022', '2017', '2018', '2011', '2019', '2020', '2024', '2021',\n",
       "       '2008', '2006'], dtype=object)"
      ]
     },
     "execution_count": 47,
     "metadata": {},
     "output_type": "execute_result"
    }
   ],
   "source": [
    "sub['리모델링 연도'].unique() # 최종확인"
   ]
  },
  {
   "cell_type": "code",
   "execution_count": 48,
   "id": "656000d4-f23d-41fd-b669-d69216744b02",
   "metadata": {},
   "outputs": [],
   "source": [
    "sub['리모델링 연도'] = sub['리모델링 연도'].astype('int')"
   ]
  },
  {
   "cell_type": "code",
   "execution_count": null,
   "id": "bc8aba54",
   "metadata": {},
   "outputs": [],
   "source": [
    "# 게이트 내외 구분값이 내부인 경우 제거\n",
    "\n",
    "sub = sub[sub['게이트 내외 구분']=='외부']"
   ]
  },
  {
   "cell_type": "code",
   "execution_count": 51,
   "id": "54f91e7f-9589-4d9f-8297-26c14c2e9462",
   "metadata": {},
   "outputs": [],
   "source": [
    "# 하나의 지하철 역에 화장실 개수가 많은 케이스 중, 리모델링 년수까지 동일한 행 제거\n",
    "sub = sub[sub.duplicated()==0]"
   ]
  },
  {
   "cell_type": "code",
   "execution_count": 52,
   "id": "87862a17-550c-4aae-bae3-b5c34ae3a372",
   "metadata": {},
   "outputs": [],
   "source": [
    "sub.to_csv('subway_rest_del.csv', encoding='cp949', index=False) "
   ]
  }
 ],
 "metadata": {
  "kernelspec": {
   "display_name": "Python 3 (ipykernel)",
   "language": "python",
   "name": "python3"
  },
  "language_info": {
   "codemirror_mode": {
    "name": "ipython",
    "version": 3
   },
   "file_extension": ".py",
   "mimetype": "text/x-python",
   "name": "python",
   "nbconvert_exporter": "python",
   "pygments_lexer": "ipython3",
   "version": "3.12.4"
  }
 },
 "nbformat": 4,
 "nbformat_minor": 5
}
